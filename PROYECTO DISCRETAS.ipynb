{
 "cells": [
  {
   "attachments": {},
   "cell_type": "markdown",
   "metadata": {},
   "source": [
    "REPRESENTACION VISUAL DEL GRAFO"
   ]
  },
  {
   "cell_type": "code",
   "execution_count": null,
   "metadata": {},
   "outputs": [],
   "source": [
    "import pandas as pd\n",
    "import warnings\n",
    "import matplotlib.pyplot as plt\n",
    "import networkx as nx\n",
    "import graphviz #libreria que deja bonito el grafo, falla en mi pc\n",
    "warnings.filterwarnings(\"ignore\")\n",
    "\n",
    "DataFrame = pd.read_csv('Cleaned_Data_2.csv')\n",
    "DataFrame = DataFrame.drop(columns= ['Critic_Score'])\n",
    "DataFrame = DataFrame.drop(columns= ['Critic_Count'])\n",
    "DataFrame = DataFrame.drop(columns= ['User_Score'])\n",
    "DataFrame = DataFrame.drop(columns= ['User_Count'])\n",
    "DataFrame = DataFrame.drop(columns= ['NA_Sales'])\n",
    "DataFrame = DataFrame.drop(columns= ['EU_Sales'])\n",
    "DataFrame = DataFrame.drop(columns= ['JP_Sales'])\n",
    "DataFrame = DataFrame.drop(columns= ['Other_Sales'])\n",
    "\n",
    "DataFrame = DataFrame.iloc[:30]\n",
    "\n",
    "\n",
    "fig, axF = plt.subplots(figsize=(20,10))\n",
    "G = nx.from_pandas_edgelist(DataFrame, source=\"Developer\", target=\"Publisher\", edge_attr=\"Global_Sales\")\n",
    "\n",
    "\n",
    "\n",
    "nx.draw(G, with_labels=True, ax=axF, node_size = 1000, font_size = 10, width =3, node_color='#bb22bb')\n",
    "\n",
    "labels2 = nx.get_edge_attributes(G,'Global_Sales')\n",
    "nx.draw_networkx_edge_labels(G,pos=nx.spring_layout(G),edge_labels=labels2)\n",
    "\n",
    "\n",
    "\n",
    "plt.show()\n",
    "print(G.edges(data=True))\n"
   ]
  },
  {
   "attachments": {},
   "cell_type": "markdown",
   "metadata": {},
   "source": [
    "NUMERO DE ENLACES Y NODOS"
   ]
  },
  {
   "cell_type": "code",
   "execution_count": null,
   "metadata": {},
   "outputs": [],
   "source": [
    "print(\"Número de nodos:\", G.number_of_nodes())\n",
    "print(\"Número de enlaces:\", G.number_of_edges())"
   ]
  },
  {
   "attachments": {},
   "cell_type": "markdown",
   "metadata": {},
   "source": [
    "CAMINO MAS CORTO DE DIJISTAK"
   ]
  },
  {
   "cell_type": "code",
   "execution_count": null,
   "metadata": {},
   "outputs": [],
   "source": [
    "print(\"Ingrese el nodo de inicio:\")\n",
    "inicio = input()\n",
    "print(\"Ingrese el nodo de destino:\")\n",
    "fin = input()\n",
    "\n",
    "\n",
    "try:\n",
    "  print(\"La ruta mas corta es:\" ,nx.dijkstra_path(G, source=inicio, target=fin, weight=True))\n",
    "  print(\"El numero de saltos es:\" ,nx.shortest_path_length(G, source=inicio, target=fin, weight=True, method='dijkstra'))\n",
    "except:\n",
    "  print(\"Uno de los dos nodos no existe en el grafo\")\n"
   ]
  },
  {
   "attachments": {},
   "cell_type": "markdown",
   "metadata": {},
   "source": [
    "PRUEBA DE COMO IMPRIMIR MAS BONITO"
   ]
  },
  {
   "cell_type": "code",
   "execution_count": null,
   "metadata": {},
   "outputs": [],
   "source": [
    "import networkx as nx\n",
    "\n",
    "G=nx.path_graph(3)\n",
    "\n",
    "pos=nx.spring_layout(G)\n",
    "\n",
    "nx.draw(G,pos)\n",
    "\n",
    "x,y=pos[1]\n",
    "\n",
    "import matplotlib.pyplot as plt\n",
    "\n",
    "plt.text(x,y+0.1,s='some text', bbox=dict(facecolor='red', alpha=0.5),horizontalalignment='center')"
   ]
  },
  {
   "attachments": {},
   "cell_type": "markdown",
   "metadata": {},
   "source": [
    "VECINOS DEL NODO"
   ]
  },
  {
   "cell_type": "code",
   "execution_count": null,
   "metadata": {},
   "outputs": [],
   "source": [
    "\n",
    "array_booleanos = DataFrame['Publisher']\n",
    "\n",
    "nodo = input()\n",
    "try:\n",
    "    print(\"Los vecinos de {} en G son {}\".format(nodo, list(G.neighbors(nodo))))\n",
    "except:\n",
    "    print(\"El nodo no existe en el grafo\")\n",
    "\n"
   ]
  },
  {
   "attachments": {},
   "cell_type": "markdown",
   "metadata": {},
   "source": [
    "GRADO DEL NODO"
   ]
  },
  {
   "cell_type": "code",
   "execution_count": null,
   "metadata": {},
   "outputs": [],
   "source": [
    "print(\"Ingrese el nodo a buscar su grado:\")\n",
    "inicio = input()\n",
    "try:\n",
    "  print(\"El grado del nodo {} es: {}\".format(inicio, G.degree[inicio]))\n",
    "except:\n",
    "  print(\"El nodo no existe en el grafo\")\n"
   ]
  },
  {
   "attachments": {},
   "cell_type": "markdown",
   "metadata": {},
   "source": [
    "MATRIZ DE ADYACENCIA ELEVADA A 2"
   ]
  },
  {
   "cell_type": "code",
   "execution_count": null,
   "metadata": {},
   "outputs": [],
   "source": [
    "import numpy as np\n",
    "\n",
    "adjM = nx.adjacency_matrix(G)\n",
    "adjM = adjM.todense()\n",
    "data_df = pd.DataFrame(adjM)\n",
    "print(data_df)\n",
    "#np.dot(adjM,adjM)"
   ]
  },
  {
   "attachments": {},
   "cell_type": "markdown",
   "metadata": {},
   "source": [
    "MATRIZ DE INCIDENCIA"
   ]
  },
  {
   "cell_type": "code",
   "execution_count": null,
   "metadata": {},
   "outputs": [],
   "source": [
    "adjM = nx.incidence_matrix(G)\n",
    "adjM = adjM.todense()\n",
    "data_df = pd.DataFrame(adjM)\n",
    "print(data_df)\n",
    "\n"
   ]
  },
  {
   "attachments": {},
   "cell_type": "markdown",
   "metadata": {},
   "source": [
    "MATRIZ DE ADYACENCIA \n",
    "\n"
   ]
  },
  {
   "cell_type": "code",
   "execution_count": null,
   "metadata": {},
   "outputs": [],
   "source": [
    "import numpy as np\n",
    "\n",
    "adjM = nx.adjacency_matrix(G)\n",
    "adjM = adjM.todense()\n",
    "data_df = pd.DataFrame(adjM)\n",
    "\n",
    "print(G.nodes)\n",
    "\n",
    "\n",
    "print(data_df)\n",
    "\n",
    "\n"
   ]
  }
 ],
 "metadata": {
  "kernelspec": {
   "display_name": "Python 3",
   "language": "python",
   "name": "python3"
  },
  "language_info": {
   "codemirror_mode": {
    "name": "ipython",
    "version": 3
   },
   "file_extension": ".py",
   "mimetype": "text/x-python",
   "name": "python",
   "nbconvert_exporter": "python",
   "pygments_lexer": "ipython3",
   "version": "3.9.6"
  },
  "orig_nbformat": 4
 },
 "nbformat": 4,
 "nbformat_minor": 2
}
